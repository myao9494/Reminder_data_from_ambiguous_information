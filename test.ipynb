{
 "cells": [
  {
   "cell_type": "code",
   "execution_count": 1,
   "id": "d29cc81d",
   "metadata": {},
   "outputs": [],
   "source": [
    "import remind_make\n",
    "import pendulum"
   ]
  },
  {
   "cell_type": "code",
   "execution_count": 2,
   "id": "427bda9c",
   "metadata": {},
   "outputs": [],
   "source": [
    "test_case = [\n",
    "    \"2021年12月15日8時から 誕生日\",\n",
    "    \"12月15日8時から誕生日\",\n",
    "    \"明日8時から誕生日\",\n",
    "    \"明後日8時から誕生日\",\n",
    "    \"今日の8時から誕生日\",\n",
    "    \"今週月曜日は誕生日\",\n",
    "    \"来週の火曜日は誕生日\",\n",
    "    \"明日は誕生日\",\n",
    "    \"明日の昼の3時に会議\"\n",
    "]"
   ]
  },
  {
   "cell_type": "code",
   "execution_count": 3,
   "id": "b8eb094e",
   "metadata": {},
   "outputs": [
    {
     "name": "stdout",
     "output_type": "stream",
     "text": [
      "2021年12月15日8時から 誕生日\n",
      "2021年12月15日8時から 誕生日\n",
      "('2021', '12', '15', '8', '0', '誕生日')\n",
      "\n",
      "12月15日8時から誕生日\n",
      "2021-10-31T10:24:05.973984+09:00 44\n",
      "2021年12月15日8時から誕生日\n",
      "('2021', '12', '15', '8', '0', '誕生日')\n",
      "\n",
      "明日8時から誕生日\n",
      "2021年11月01日8時から誕生日\n",
      "('2021', '11', '01', '8', '0', '誕生日')\n",
      "\n",
      "明後日8時から誕生日\n",
      "2021年11月02日8時から誕生日\n",
      "('2021', '11', '02', '8', '0', '誕生日')\n",
      "\n",
      "今日の8時から誕生日\n",
      "2021年10月31日の8時から誕生日\n",
      "('2021', '10', '31', '8', '0', '誕生日')\n",
      "\n",
      "今週月曜日は誕生日\n",
      "今週はマイナスの日だよ。勝手に来週にしちゃうね!\n",
      "2021年11月08日は誕生日\n",
      "2021年11月08日 7時0分は誕生日\n",
      "('2021', '11', '08', '7', '0', '誕生日')\n",
      "\n",
      "来週の火曜日は誕生日\n",
      "2021年11月02日は誕生日\n",
      "2021年11月02日 7時0分は誕生日\n",
      "('2021', '11', '02', '7', '0', '誕生日')\n",
      "\n",
      "明日は誕生日\n",
      "2021年11月01日は誕生日\n",
      "2021年11月01日 7時0分は誕生日\n",
      "('2021', '11', '01', '7', '0', '誕生日')\n",
      "\n",
      "明日の昼の3時に会議\n",
      "2021年11月01日の昼の3時に会議\n",
      "('2021', '11', '01', '15', '0', '会議')\n",
      "\n"
     ]
    }
   ],
   "source": [
    "for i in test_case:\n",
    "    print(i)\n",
    "    print(remind_make.main(i,pendulum.now()))\n",
    "    print(\"\")"
   ]
  },
  {
   "cell_type": "code",
   "execution_count": null,
   "id": "2e93163a",
   "metadata": {},
   "outputs": [],
   "source": []
  },
  {
   "cell_type": "code",
   "execution_count": null,
   "id": "02710ddc",
   "metadata": {},
   "outputs": [],
   "source": []
  },
  {
   "cell_type": "code",
   "execution_count": null,
   "id": "8dca3c60",
   "metadata": {},
   "outputs": [],
   "source": []
  },
  {
   "cell_type": "code",
   "execution_count": null,
   "id": "ebfd9396",
   "metadata": {},
   "outputs": [],
   "source": []
  }
 ],
 "metadata": {
  "kernelspec": {
   "display_name": "Python 3 (ipykernel)",
   "language": "python",
   "name": "python3"
  },
  "language_info": {
   "codemirror_mode": {
    "name": "ipython",
    "version": 3
   },
   "file_extension": ".py",
   "mimetype": "text/x-python",
   "name": "python",
   "nbconvert_exporter": "python",
   "pygments_lexer": "ipython3",
   "version": "3.9.6"
  },
  "toc": {
   "base_numbering": 1,
   "nav_menu": {},
   "number_sections": true,
   "sideBar": true,
   "skip_h1_title": false,
   "title_cell": "Table of Contents",
   "title_sidebar": "Contents",
   "toc_cell": false,
   "toc_position": {},
   "toc_section_display": true,
   "toc_window_display": false
  }
 },
 "nbformat": 4,
 "nbformat_minor": 5
}
