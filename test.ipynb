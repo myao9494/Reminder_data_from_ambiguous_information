{
 "cells": [
  {
   "cell_type": "code",
   "execution_count": 18,
   "id": "0cd5eb92",
   "metadata": {},
   "outputs": [],
   "source": [
    "import calendar\n",
    "def _get_week_number(target_date):\n",
    "    \n",
    "    \"\"\"  \n",
    "    指定された日付からその月の「第N週」かを取得する\n",
    "      Arguments:\n",
    "          target_date {datetime} -- 第N週を取得する対象の日付情報\n",
    "\n",
    "      Returns:\n",
    "          int -- 第N週の`N`\n",
    "    \"\"\"\n",
    "    # カレンダーを日曜日始まりで作成する( firstweekday=6 は日曜日始まりを指定 )\n",
    "    cl = calendar.Calendar(firstweekday=6)\n",
    "\n",
    "    # ここからが実際に第N週かを取得する処理\n",
    "    month_cl = cl.monthdays2calendar(target_date.year, target_date.month)\n",
    "    week_num = 1\n",
    "    for week in month_cl:\n",
    "        for day in week:\n",
    "            if day[0] == target_date.day:\n",
    "                return week_num\n",
    "        week_num += 1\n",
    "\n"
   ]
  },
  {
   "cell_type": "code",
   "execution_count": 22,
   "id": "e011082c",
   "metadata": {},
   "outputs": [
    {
     "data": {
      "text/plain": [
       "1"
      ]
     },
     "execution_count": 22,
     "metadata": {},
     "output_type": "execute_result"
    }
   ],
   "source": [
    "date = pendulum.datetime(2021,11,6)\n",
    "week_num = _get_week_number(date)\n",
    "week_num\n",
    "# 「指定した日( 6/3 ) は 6 月の第 2 週です」が出力される\n",
    "# print('指定した日( {}/{} ) は {} 月の第 {} 週です'.format(date.month, date.day, date.month, week_num))"
   ]
  },
  {
   "cell_type": "code",
   "execution_count": 14,
   "id": "d906fe39",
   "metadata": {},
   "outputs": [
    {
     "ename": "NameError",
     "evalue": "name 'calendar' is not defined",
     "output_type": "error",
     "traceback": [
      "\u001b[0;31m---------------------------------------------------------------------------\u001b[0m",
      "\u001b[0;31mNameError\u001b[0m                                 Traceback (most recent call last)",
      "\u001b[0;32m/var/folders/xs/ryx995dd64q5y13vc9xlyybc0000gn/T/ipykernel_18814/2568243416.py\u001b[0m in \u001b[0;36m<module>\u001b[0;34m\u001b[0m\n\u001b[0;32m----> 1\u001b[0;31m \u001b[0ma\u001b[0m \u001b[0;34m=\u001b[0m \u001b[0mcalendar\u001b[0m\u001b[0;34m.\u001b[0m\u001b[0mcalendar\u001b[0m\u001b[0;34m(\u001b[0m\u001b[0;36m2021\u001b[0m\u001b[0;34m)\u001b[0m\u001b[0;34m\u001b[0m\u001b[0;34m\u001b[0m\u001b[0m\n\u001b[0m\u001b[1;32m      2\u001b[0m \u001b[0mprint\u001b[0m\u001b[0;34m(\u001b[0m\u001b[0ma\u001b[0m\u001b[0;34m)\u001b[0m\u001b[0;34m\u001b[0m\u001b[0;34m\u001b[0m\u001b[0m\n",
      "\u001b[0;31mNameError\u001b[0m: name 'calendar' is not defined"
     ]
    }
   ],
   "source": [
    "a = calendar.calendar(2021)\n",
    "print(a)"
   ]
  },
  {
   "cell_type": "code",
   "execution_count": 19,
   "id": "d5a84b7c",
   "metadata": {},
   "outputs": [
    {
     "data": {
      "text/plain": [
       "1"
      ]
     },
     "execution_count": 19,
     "metadata": {},
     "output_type": "execute_result"
    }
   ],
   "source": [
    "calendar.weekday(2021,11,2)"
   ]
  },
  {
   "cell_type": "code",
   "execution_count": null,
   "id": "09dc9cd2",
   "metadata": {},
   "outputs": [],
   "source": []
  },
  {
   "cell_type": "code",
   "execution_count": null,
   "id": "da175391",
   "metadata": {},
   "outputs": [],
   "source": []
  },
  {
   "cell_type": "code",
   "execution_count": null,
   "id": "94a5d072",
   "metadata": {},
   "outputs": [],
   "source": []
  },
  {
   "cell_type": "code",
   "execution_count": 10,
   "id": "57d9e6d4",
   "metadata": {},
   "outputs": [
    {
     "data": {
      "text/plain": [
       "DateTime(2021, 11, 6, 0, 0, 0, tzinfo=Timezone('Asia/Tokyo'))"
      ]
     },
     "execution_count": 10,
     "metadata": {},
     "output_type": "execute_result"
    }
   ],
   "source": [
    "tg = pendulum.now().next(pendulum.SATURDAY)\n",
    "tg"
   ]
  },
  {
   "cell_type": "code",
   "execution_count": 12,
   "id": "7465fa02",
   "metadata": {},
   "outputs": [
    {
     "data": {
      "text/plain": [
       "5"
      ]
     },
     "execution_count": 12,
     "metadata": {},
     "output_type": "execute_result"
    }
   ],
   "source": [
    "remind_make._nan_shu(tg)"
   ]
  },
  {
   "cell_type": "code",
   "execution_count": null,
   "id": "e120fe0a",
   "metadata": {},
   "outputs": [],
   "source": [
    "impot"
   ]
  },
  {
   "cell_type": "code",
   "execution_count": 11,
   "id": "c4233374",
   "metadata": {},
   "outputs": [
    {
     "data": {
      "text/plain": [
       "DateTime(2021, 11, 2, 5, 43, 19, 659205, tzinfo=Timezone('Asia/Tokyo'))"
      ]
     },
     "execution_count": 11,
     "metadata": {},
     "output_type": "execute_result"
    }
   ],
   "source": [
    "pendulum.now()"
   ]
  },
  {
   "cell_type": "code",
   "execution_count": 7,
   "id": "c72088e0",
   "metadata": {},
   "outputs": [],
   "source": [
    "tg_shu = \n",
    "now_shu = remind_make._nan_shu(pendulum.now())"
   ]
  },
  {
   "cell_type": "code",
   "execution_count": 8,
   "id": "dcb7382e",
   "metadata": {},
   "outputs": [
    {
     "data": {
      "text/plain": [
       "(5, 1)"
      ]
     },
     "execution_count": 8,
     "metadata": {},
     "output_type": "execute_result"
    }
   ],
   "source": [
    "tg_shu,now_shu"
   ]
  },
  {
   "cell_type": "code",
   "execution_count": 15,
   "id": "d29cc81d",
   "metadata": {},
   "outputs": [],
   "source": [
    "import remind_make\n",
    "import pendulum"
   ]
  },
  {
   "cell_type": "code",
   "execution_count": 2,
   "id": "427bda9c",
   "metadata": {},
   "outputs": [],
   "source": [
    "test_case = [\n",
    "    \"2021年12月15日8時から 誕生日\",\n",
    "    \"12月15日8時から誕生日\",\n",
    "    \"明日8時から誕生日\",\n",
    "    \"明後日8時から誕生日\",\n",
    "    \"今日の8時から誕生日\",\n",
    "    \"今週月曜日は誕生日\",\n",
    "    \"来週の火曜日は誕生日\",\n",
    "    \"明日は誕生日\",\n",
    "    \"明日の昼の3時に会議\",\n",
    "    \"12/15誕生日\",\n",
    "    \"次の土曜日にピアノの月謝\"\n",
    "]"
   ]
  },
  {
   "cell_type": "code",
   "execution_count": 3,
   "id": "b8eb094e",
   "metadata": {},
   "outputs": [
    {
     "name": "stdout",
     "output_type": "stream",
     "text": [
      "2021年12月15日8時から 誕生日\n",
      "2021年12月15日8時0分から 誕生日\n",
      "('2021', '12', '15', '8', '0', '誕生日')\n",
      "\n",
      "12月15日8時から誕生日\n",
      "2021年12月15日8時0分から誕生日\n",
      "('2021', '12', '15', '8', '0', '誕生日')\n",
      "\n",
      "明日8時から誕生日\n",
      "2021年11月03日8時0分から誕生日\n",
      "('2021', '11', '03', '8', '0', '誕生日')\n",
      "\n",
      "明後日8時から誕生日\n",
      "2021年11月04日8時0分から誕生日\n",
      "('2021', '11', '04', '8', '0', '誕生日')\n",
      "\n",
      "今日の8時から誕生日\n",
      "2021年11月02日の8時0分から誕生日\n",
      "('2021', '11', '02', '8', '0', '誕生日')\n",
      "\n",
      "今週月曜日は誕生日\n",
      "今週はマイナスの日だよ。勝手に来週にしちゃうね!\n",
      "2021年11月15日日 7時0分は誕生日\n",
      "('2021', '11', '15', '7', '0', '誕生日')\n",
      "\n",
      "来週の火曜日は誕生日\n",
      "2021年11月16日日 7時0分は誕生日\n",
      "('2021', '11', '16', '7', '0', '誕生日')\n",
      "\n",
      "明日は誕生日\n",
      "2021年11月03日日 7時0分は誕生日\n",
      "('2021', '11', '03', '7', '0', '誕生日')\n",
      "\n",
      "明日の昼の3時に会議\n",
      "2021年11月03日の昼15時0分に会議\n",
      "('2021', '11', '03', '15', '0', '会議')\n",
      "\n",
      "12/15誕生日\n",
      "2021年12/15日 7時0分誕生日\n",
      "('2021', '12', '15', '7', '0', '誕生日')\n",
      "\n",
      "次の土曜日にピアノの月謝\n",
      "今週はマイナスの日だよ。勝手に来週にしちゃうね!\n",
      "2021年11月13日日 7時0分にピアノの月謝\n",
      "('2021', '11', '13', '7', '0', 'ピアノの月謝')\n",
      "\n"
     ]
    }
   ],
   "source": [
    "for i in test_case:\n",
    "    print(i)\n",
    "    print(remind_make.main(i,pendulum.now()))\n",
    "    print(\"\")"
   ]
  },
  {
   "cell_type": "code",
   "execution_count": null,
   "id": "2e93163a",
   "metadata": {},
   "outputs": [],
   "source": []
  },
  {
   "cell_type": "code",
   "execution_count": null,
   "id": "02710ddc",
   "metadata": {},
   "outputs": [],
   "source": []
  },
  {
   "cell_type": "code",
   "execution_count": null,
   "id": "8dca3c60",
   "metadata": {},
   "outputs": [],
   "source": []
  },
  {
   "cell_type": "code",
   "execution_count": null,
   "id": "ebfd9396",
   "metadata": {},
   "outputs": [],
   "source": []
  }
 ],
 "metadata": {
  "kernelspec": {
   "display_name": "Python 3 (ipykernel)",
   "language": "python",
   "name": "python3"
  },
  "language_info": {
   "codemirror_mode": {
    "name": "ipython",
    "version": 3
   },
   "file_extension": ".py",
   "mimetype": "text/x-python",
   "name": "python",
   "nbconvert_exporter": "python",
   "pygments_lexer": "ipython3",
   "version": "3.9.6"
  },
  "toc": {
   "base_numbering": 1,
   "nav_menu": {},
   "number_sections": true,
   "sideBar": true,
   "skip_h1_title": false,
   "title_cell": "Table of Contents",
   "title_sidebar": "Contents",
   "toc_cell": false,
   "toc_position": {},
   "toc_section_display": true,
   "toc_window_display": false
  }
 },
 "nbformat": 4,
 "nbformat_minor": 5
}
